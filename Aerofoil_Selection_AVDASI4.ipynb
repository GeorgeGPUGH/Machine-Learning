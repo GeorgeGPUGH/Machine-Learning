{
  "nbformat": 4,
  "nbformat_minor": 0,
  "metadata": {
    "colab": {
      "provenance": [],
      "authorship_tag": "ABX9TyM+yCqtkbu9G/QJct/xHKcG"
    },
    "kernelspec": {
      "name": "python3",
      "display_name": "Python 3"
    },
    "language_info": {
      "name": "python"
    }
  },
  "cells": [
    {
      "cell_type": "markdown",
      "source": [
        "Note: This was originally created on VSCode and has since been copied to Google Colab and exported to GitHub\n"
      ],
      "metadata": {
        "id": "MxioZ0Eb7kgB"
      }
    },
    {
      "cell_type": "code",
      "source": [
        "import pandas as pd\n",
        "import tensorflow as tf\n",
        "from sklearn.model_selection import train_test_split\n",
        "from sklearn.preprocessing import StandardScaler\n",
        "from tensorflow.keras.models import Sequential\n",
        "from tensorflow.keras.layers import Dense\n",
        "from tensorflow.keras.optimizers import Adam"
      ],
      "metadata": {
        "id": "jusw9aoW7suG"
      },
      "execution_count": null,
      "outputs": []
    },
    {
      "cell_type": "code",
      "source": [
        "# Load your dataset\n",
        "df = pd.read_csv('NACA_aero_data.csv')\n",
        "\n",
        "# Drop the Reynolds Number column\n",
        "df = df.drop(columns=['Reynolds Number'])\n",
        "\n",
        "# Display the first few rows of the dataframe\n",
        "print(df.head())"
      ],
      "metadata": {
        "id": "QkLesXNz7v29"
      },
      "execution_count": null,
      "outputs": []
    },
    {
      "cell_type": "code",
      "source": [
        "# Assuming all your columns are numeric and relevant for the model\n",
        "X = df.drop('NACA Number', axis=1)  # Features\n",
        "y = df['NACA Number']               # Target variable\n",
        "\n",
        "# Convert target variable to categorical\n",
        "y = pd.Categorical(y)\n",
        "\n",
        "# Dictionary to turn index back into NACA\n",
        "index_to_naca = dict(enumerate(y.categories))\n",
        "\n",
        "y = y.codes\n",
        "\n",
        "# Scale the features\n",
        "scaler = StandardScaler()\n",
        "X_scaled = scaler.fit_transform(X)\n",
        "\n",
        "# Split the dataset into training and testing sets\n",
        "X_train, X_test, y_train, y_test = train_test_split(X_scaled, y, test_size=0.2, random_state=42)"
      ],
      "metadata": {
        "id": "mUMatZNu7xjK"
      },
      "execution_count": null,
      "outputs": []
    },
    {
      "cell_type": "code",
      "source": [
        "# Create a TensorFlow model\n",
        "model = Sequential([\n",
        "    Dense(128, activation='relu', input_shape=(X_train.shape[1],)),\n",
        "    Dense(64, activation='relu'),\n",
        "    Dense(len(set(y)), activation='softmax')  # Output layer with softmax for multi-class classification\n",
        "])"
      ],
      "metadata": {
        "id": "3UZAH1lh7ykF"
      },
      "execution_count": null,
      "outputs": []
    },
    {
      "cell_type": "code",
      "source": [
        "# Compile the model\n",
        "model.compile(optimizer=Adam(),\n",
        "              loss='sparse_categorical_crossentropy',  # Use sparse_categorical_crossentropy for integer labels\n",
        "              metrics=['accuracy'])"
      ],
      "metadata": {
        "id": "QsrWvTNC7zjy"
      },
      "execution_count": null,
      "outputs": []
    },
    {
      "cell_type": "code",
      "source": [
        "# Train the model\n",
        "model.fit(X_train, y_train, epochs=10, batch_size=32)"
      ],
      "metadata": {
        "id": "CzcmGm2T70Tg"
      },
      "execution_count": null,
      "outputs": []
    },
    {
      "cell_type": "code",
      "source": [
        "# Save the model for future use\n",
        "model.save('my_model')"
      ],
      "metadata": {
        "id": "ILKHjS9G71qH"
      },
      "execution_count": null,
      "outputs": []
    },
    {
      "cell_type": "code",
      "source": [
        "from tensorflow.keras.models import load_model\n",
        "\n",
        "# Run to load the model\n",
        "loaded_model = load_model('my_model')"
      ],
      "metadata": {
        "id": "FyCJD1rG73Jo"
      },
      "execution_count": null,
      "outputs": []
    },
    {
      "cell_type": "code",
      "source": [
        "# Evaluate the model\n",
        "loss, accuracy = model.evaluate(X_test, y_test)\n",
        "print(\"Accuracy:\", accuracy)"
      ],
      "metadata": {
        "id": "dIgydvGT79Cx"
      },
      "execution_count": null,
      "outputs": []
    },
    {
      "cell_type": "code",
      "source": [
        "# Function to recommend aerofoil\n",
        "def recommend_aerofoil(altitude, chord_length, mach_number, alpha, Cl, Cl_Cd):\n",
        "    # Create a DataFrame for the input\n",
        "    input_data = pd.DataFrame([[altitude, chord_length, mach_number, alpha, Cl, Cl_Cd]],\n",
        "                              columns=['Altitude (ft)', 'Chord Length', 'Mach Number', 'Alpha', 'CL', 'CL/CD'])\n",
        "\n",
        "    # Scale the input data using the loaded scaler\n",
        "    input_scaled = scaler.transform(input_data)\n",
        "\n",
        "    # Predict the aerofoil using the trained TensorFlow model\n",
        "    predictions = model.predict(input_scaled)\n",
        "    #print(predictions)\n",
        "    predicted_aerofoil = tf.argmax(predictions, axis=1).numpy()[0]  # Get the index of the highest probability\n",
        "\n",
        "    #print(predicted_aerofoil)\n",
        "\n",
        "    naca_number = index_to_naca[predicted_aerofoil]\n",
        "\n",
        "    # Filter the dataset for the predicted aerofoil and the given conditions\n",
        "    suitable_aerofoils = df[(df['NACA Number'] == naca_number) &\n",
        "                            (df['CL/CD'] >= Cl_Cd) &\n",
        "                            (df['CL'] >= Cl) &\n",
        "                            (df['Altitude (ft)'] == altitude) &\n",
        "                            (df['Chord Length'] == chord_length) &\n",
        "                            (df['Mach Number'] >= 0.98*mach_number) &\n",
        "                            (df['Mach Number'] <= 1.02*mach_number) &\n",
        "                            (df['Alpha'] <= alpha)\n",
        "                           ]\n",
        "\n",
        "    # Check if there are suitable aerofoils that meet all criteria\n",
        "    if suitable_aerofoils.empty:\n",
        "        return \"No suitable aerofoil found\"\n",
        "    else:\n",
        "        return suitable_aerofoils # Can be tweaked to return a single aerofoil if multiple match the criteria (i.e. return the one with highest Cl/Cd)\n"
      ],
      "metadata": {
        "id": "S6MATp-97-TQ"
      },
      "execution_count": null,
      "outputs": []
    },
    {
      "cell_type": "code",
      "source": [
        "# Inputs\n",
        "altitude = 25000 # Feet\n",
        "chord_length = 3.5 # Metres\n",
        "mach_number = 0.35 # Mach\n",
        "alpha = 8 # Maximum angle of attack (sum of cruising angle of attack + angle of wing on fuselage)\n",
        "Cl = 1.6 # Minimum lift coefficient\n",
        "Cl_Cd = 100 # Minimum lift to drag ratio\n",
        "\n",
        "\n",
        "best_aerofoil = recommend_aerofoil(altitude, chord_length, mach_number, alpha, Cl, Cl_Cd)\n",
        "print(f\"Recommended Aerofoils:\\n{best_aerofoil}\")"
      ],
      "metadata": {
        "id": "mjtoGPk78CsP"
      },
      "execution_count": null,
      "outputs": []
    }
  ]
}